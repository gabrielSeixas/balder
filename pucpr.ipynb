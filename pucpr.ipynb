{
 "cells": [
  {
   "cell_type": "code",
   "execution_count": 2,
   "metadata": {},
   "outputs": [],
   "source": [
    "from splinter import Browser"
   ]
  },
  {
   "cell_type": "code",
   "execution_count": 36,
   "metadata": {},
   "outputs": [],
   "source": [
    "b = Browser('chrome')"
   ]
  },
  {
   "cell_type": "code",
   "execution_count": 38,
   "metadata": {},
   "outputs": [],
   "source": [
    "b.visit('http://www.biblioteca.pucpr.br/pergamum/biblioteca/pesquisa_avancada.php')"
   ]
  },
  {
   "cell_type": "code",
   "execution_count": 39,
   "metadata": {},
   "outputs": [],
   "source": [
    "b.fill('termo_para_pesquisa1', '978-85-359-1112-1')"
   ]
  },
  {
   "cell_type": "code",
   "execution_count": 40,
   "metadata": {},
   "outputs": [],
   "source": [
    "tags = b.find_by_css('select#filtro1.pmu_campo4')"
   ]
  },
  {
   "cell_type": "code",
   "execution_count": 41,
   "metadata": {},
   "outputs": [
    {
     "data": {
      "text/plain": [
       "[<splinter.driver.webdriver.WebDriverElement at 0x1062d3208>]"
      ]
     },
     "execution_count": 41,
     "metadata": {},
     "output_type": "execute_result"
    }
   ],
   "source": [
    "tags"
   ]
  },
  {
   "cell_type": "code",
   "execution_count": 42,
   "metadata": {},
   "outputs": [
    {
     "data": {
      "text/plain": [
       "'TITULO'"
      ]
     },
     "execution_count": 42,
     "metadata": {},
     "output_type": "execute_result"
    }
   ],
   "source": [
    "tags[0].value"
   ]
  },
  {
   "cell_type": "code",
   "execution_count": 45,
   "metadata": {},
   "outputs": [],
   "source": [
    "tags[0].click()\n",
    "b.find_by_css('option[value=\"LIVRE\"]')[0].click()"
   ]
  },
  {
   "cell_type": "code",
   "execution_count": 46,
   "metadata": {},
   "outputs": [],
   "source": [
    "b.find_by_css('input#fs.pmu_btn11')[0].click()"
   ]
  },
  {
   "cell_type": "code",
   "execution_count": 47,
   "metadata": {},
   "outputs": [],
   "source": [
    "link_tags = b.find_by_css('tr[align=\"left\"] > td > a.link_azul')"
   ]
  },
  {
   "cell_type": "code",
   "execution_count": 48,
   "metadata": {},
   "outputs": [
    {
     "data": {
      "text/plain": [
       "'Menino do pijama listrado, O - 1. ed. / 2007 - ( Livros )'"
      ]
     },
     "execution_count": 48,
     "metadata": {},
     "output_type": "execute_result"
    }
   ],
   "source": [
    "link_tags[0].value"
   ]
  },
  {
   "cell_type": "code",
   "execution_count": 49,
   "metadata": {},
   "outputs": [],
   "source": [
    "link_tags[0].click()"
   ]
  },
  {
   "cell_type": "code",
   "execution_count": 53,
   "metadata": {},
   "outputs": [
    {
     "data": {
      "text/plain": [
       "'Número de Chamada\\nIr823  B792  MEN'"
      ]
     },
     "execution_count": 53,
     "metadata": {},
     "output_type": "execute_result"
    }
   ],
   "source": [
    "b.find_by_css('table[width=\"95%\"]')[0].value"
   ]
  },
  {
   "cell_type": "code",
   "execution_count": 67,
   "metadata": {},
   "outputs": [
    {
     "data": {
      "text/plain": [
       "'Fechar (X)'"
      ]
     },
     "execution_count": 67,
     "metadata": {},
     "output_type": "execute_result"
    }
   ],
   "source": [
    "b.find_by_css('div#dados > div#fechar_2')[0].value"
   ]
  },
  {
   "cell_type": "code",
   "execution_count": 68,
   "metadata": {},
   "outputs": [],
   "source": [
    "b.quit()"
   ]
  },
  {
   "cell_type": "code",
   "execution_count": 44,
   "metadata": {},
   "outputs": [],
   "source": [
    "def parse_table_to_dict(table, browser):\n",
    "    have_isbn = False\n",
    "    book_dict = {}\n",
    "\n",
    "    def key_condition(string, row, key):\n",
    "        if string in row.value:\n",
    "            if key == 'isbn':\n",
    "                book_dict[key] = re.search('((\\d+-)+\\d)', row.value.split('\\n')[1]).group(0)\n",
    "            else:\n",
    "                book_dict[key] = row.value.split('\\n')[1]\n",
    "\n",
    "    for row in table:\n",
    "        if 'Número Normalizado' in row.value:\n",
    "            have_isbn = True\n",
    "\n",
    "        row_data = row.value.split('\\n')\n",
    "\n",
    "        key_condition('Número Normalizado', row, 'isbn')\n",
    "        key_condition('Título Principal', row, 'name')\n",
    "        key_condition('Autor', row, 'author')\n",
    "\n",
    "        if 'Assuntos' in row.value:\n",
    "            break\n",
    "\n",
    "    close_modal_button = browser.find_by_text('Close (X)')\n",
    "    close_modal_button.click()\n",
    "\n",
    "    scroll_down(browser)\n",
    "    scroll_down(browser)\n",
    "\n",
    "    if have_isbn:\n",
    "        return book_dict\n",
    "\n",
    "    return False"
   ]
  }
 ],
 "metadata": {
  "kernelspec": {
   "display_name": "Python 3",
   "language": "python",
   "name": "python3"
  },
  "language_info": {
   "codemirror_mode": {
    "name": "ipython",
    "version": 3
   },
   "file_extension": ".py",
   "mimetype": "text/x-python",
   "name": "python",
   "nbconvert_exporter": "python",
   "pygments_lexer": "ipython3",
   "version": "3.6.0"
  }
 },
 "nbformat": 4,
 "nbformat_minor": 2
}
